{
 "cells": [
  {
   "cell_type": "code",
   "execution_count": 9,
   "metadata": {},
   "outputs": [
    {
     "name": "stdout",
     "output_type": "stream",
     "text": [
      "Enter a:10\n"
     ]
    }
   ],
   "source": [
    "a=int(input(\"Enter a:\"))"
   ]
  },
  {
   "cell_type": "code",
   "execution_count": 3,
   "metadata": {},
   "outputs": [
    {
     "name": "stdout",
     "output_type": "stream",
     "text": [
      "i \t PI\n"
     ]
    }
   ],
   "source": [
    "print(\"i\",'\\t',\"PI\")"
   ]
  },
  {
   "cell_type": "code",
   "execution_count": 11,
   "metadata": {},
   "outputs": [
    {
     "name": "stdout",
     "output_type": "stream",
     "text": [
      "=== \t ========\n"
     ]
    }
   ],
   "source": [
    "print(\"===\",'\\t',\"========\")"
   ]
  },
  {
   "cell_type": "code",
   "execution_count": 12,
   "metadata": {},
   "outputs": [
    {
     "name": "stdout",
     "output_type": "stream",
     "text": [
      "1 \t 2.666666666666667\n",
      "2 \t 3.466666666666667\n",
      "3 \t 2.8952380952380956\n",
      "4 \t 3.3396825396825403\n",
      "5 \t 2.9760461760461765\n",
      "6 \t 3.2837384837384844\n",
      "7 \t 3.017071817071818\n",
      "8 \t 3.2523659347188767\n",
      "9 \t 3.0418396189294032\n",
      "10 \t 3.232315809405594\n"
     ]
    }
   ],
   "source": [
    "p=4\n",
    "k=3\n",
    "sign=-1\n",
    "for i in range(1,a+1):\n",
    "    p+=sign*4/k\n",
    "    k+=2\n",
    "    sign=-sign\n",
    "    print(i,'\\t',p)"
   ]
  },
  {
   "cell_type": "code",
   "execution_count": null,
   "metadata": {},
   "outputs": [],
   "source": []
  }
 ],
 "metadata": {
  "kernelspec": {
   "display_name": "Python 3",
   "language": "python",
   "name": "python3"
  },
  "language_info": {
   "codemirror_mode": {
    "name": "ipython",
    "version": 3
   },
   "file_extension": ".py",
   "mimetype": "text/x-python",
   "name": "python",
   "nbconvert_exporter": "python",
   "pygments_lexer": "ipython3",
   "version": "3.6.13"
  }
 },
 "nbformat": 4,
 "nbformat_minor": 2
}
